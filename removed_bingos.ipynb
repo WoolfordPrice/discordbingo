{
 "cells": [
  {
   "cell_type": "markdown",
   "metadata": {},
   "source": [
    "      \"hellDivers\": [\n",
    "        \"Gets killed by mortar\",\n",
    "        \"Gets killed by rocket\",\n",
    "        \"Gets killed by cannon turret\",\n",
    "        \"Kills teammate/self with grenade\",\n",
    "        \"Falls into hole\",\n",
    "        \"Kills Hulk/Bile Titan/Tank with drop pod\",\n",
    "        \"Railgun explodes in hands\",\n",
    "        \"Shoots teammate on accident\",\n",
    "        \"Kills teammate/self with 120mm/380mm barrage\",\n",
    "        \"Kills self trying to destroy bughole/factory\",\n",
    "        \"Says 'What's going on?!?!' after large explosions or tons of gunfire\",\n",
    "        \"Kills teammate or self with hellbomb\",\n",
    "        \"Limb gets blown off after death\",\n",
    "        \"Dies from impact\",\n",
    "        \"Asks 'What happened to the resupply?'\",\n",
    "        \"Shreiks\",\n",
    "        \"Kills teammate/self with sentry (excluding mortar)\",\n",
    "        \"Says 'How is it not dead?!?'\",\n",
    "        \"Kills teammate with own drop pod\",\n",
    "        \"Gets obliterated by enemy cannon turret\",\n",
    "        \"Asks 'Where are we going?' or 'What are we doing?'\",\n",
    "        \"Full team fails to extract\",\n",
    "        \"Fails mission\",\n",
    "        \"Gets killed by bile titan toxin or spitter toxin\",\n",
    "        \"Gets slowed by planet flora\",\n",
    "        \"Drowns\",\n",
    "        \"Kills teammate with strategem\",\n",
    "        \"Dies to landmines\",\n",
    "        \"Calls someone a rat\",\n",
    "        \"Says 'THE SAMPLES!'\",\n",
    "        \"Ragdolls after a dive\",\n",
    "        \"Says 'What killed me?'\"\n",
    "      ]"
   ]
  }
 ],
 "metadata": {
  "language_info": {
   "name": "python"
  }
 },
 "nbformat": 4,
 "nbformat_minor": 2
}
